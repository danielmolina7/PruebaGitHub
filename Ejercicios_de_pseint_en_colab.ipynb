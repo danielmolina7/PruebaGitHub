{
  "cells": [
    {
      "cell_type": "markdown",
      "metadata": {
        "id": "view-in-github",
        "colab_type": "text"
      },
      "source": [
        "<a href=\"https://colab.research.google.com/github/danielmolina7/PruebaGitHub/blob/master/Ejercicios_de_pseint_en_colab.ipynb\" target=\"_parent\"><img src=\"https://colab.research.google.com/assets/colab-badge.svg\" alt=\"Open In Colab\"/></a>"
      ]
    },
    {
      "cell_type": "code",
      "execution_count": null,
      "metadata": {
        "id": "synB-_FCv8_V"
      },
      "outputs": [],
      "source": [
        "print(\"Conoce el mínimo común múltiplo de dos números...\")\n",
        "\n",
        "import math\n",
        "\n",
        "def calcular_mcm(a, b):\n",
        "\n",
        "    mcm = abs(a * b) // math.gcd(a, b)\n",
        "    return mcm\n",
        "\n",
        "numero1 = int(input(\"Ingresa el primer número: \"))\n",
        "numero2 = int(input(\"Ingresa el segundo número: \"))\n",
        "\n",
        "resultado = calcular_mcm(numero1, numero2)\n",
        "\n",
        "print(f\"El mínimo común múltiplo de {numero1} y {numero2} es {resultado}\")\n"
      ]
    },
    {
      "cell_type": "code",
      "execution_count": 65,
      "metadata": {
        "colab": {
          "base_uri": "https://localhost:8080/"
        },
        "id": "4Vm5ImQ1h7Zc",
        "outputId": "1d4cd6b6-196c-49eb-9033-0069cc7dcf67"
      },
      "outputs": [
        {
          "output_type": "stream",
          "name": "stdout",
          "text": [
            "Calcula el promedio entre tres numeros\n",
            "Digita el primer numero: 3\n",
            "Digita el segundo numero: 4\n",
            "Digita el tercer numero: 5\n",
            "El promedio es: 4.0\n"
          ]
        }
      ],
      "source": [
        "4\n",
        "print(\"Calcula el promedio entre tres numeros\")\n",
        "numero1 = float(input(\"Digita el primer numero: \"))\n",
        "numero2 = float(input(\"Digita el segundo numero: \"))\n",
        "numero3 = float(input(\"Digita el tercer numero: \"))\n",
        "\n",
        "promedio = (numero1 + numero2 + numero3) / 3\n",
        "print(f\"El promedio es: {promedio}\")\n"
      ]
    },
    {
      "cell_type": "code",
      "execution_count": 66,
      "metadata": {
        "colab": {
          "base_uri": "https://localhost:8080/"
        },
        "id": "xwi4pNOkibrP",
        "outputId": "27fc350d-4974-4054-9bfd-8682ce5d741a"
      },
      "outputs": [
        {
          "output_type": "stream",
          "name": "stdout",
          "text": [
            "Evalua si un numero es par o impar\n",
            "Digita el numero: 345\n",
            "El numero es impar\n"
          ]
        }
      ],
      "source": [
        "print(\"Evalua si un numero es par o impar\")\n",
        "\n",
        "a=int(input(\"Digita el numero: \"))\n",
        "# %2 o modulo de dos se le llama a la operacion de dividir un numero entre dos, esta puede dar 0 indicando que es par o 1 indicando que dejo un residuo y por ende es impar\n",
        "if a%2==0:\n",
        "    print(\"El numero es par\")\n",
        "else:\n",
        "    print(\"El numero es impar\")\n"
      ]
    },
    {
      "cell_type": "code",
      "execution_count": null,
      "metadata": {
        "id": "ULAe4WByknbd"
      },
      "outputs": [],
      "source": [
        "print(\"Calcula el factorial de un numero\")\n",
        "\n",
        "a=int(input(\"Digita el numero: \"))\n",
        "\n",
        "#Se define el valor de la variable factorial para posteriormente multiplicarla por asignacion.\n",
        "factorial = 1\n",
        "\n",
        "#Se crea un ciclo para variable i dentro de un rango, el rango va de 1 hasta a+1 para que se pueda ejecutar hasta el numero de variable a.\n",
        "for i in range(1, a + 1):\n",
        "\n",
        "  #Se multiplica la variable previamente definida por todos los valores que toma la variable i\n",
        "    factorial *= i\n",
        "\n",
        "print(f\"El factorial de {a} es: {factorial}\")"
      ]
    },
    {
      "cell_type": "code",
      "execution_count": 67,
      "metadata": {
        "colab": {
          "base_uri": "https://localhost:8080/"
        },
        "id": "BtTl_gMOtVru",
        "outputId": "73f27f26-37ad-400e-97a5-5eea1b751d59"
      },
      "outputs": [
        {
          "output_type": "stream",
          "name": "stdout",
          "text": [
            "¡Bienvenido a la calculadora de raices cuadradas!\n",
            "Introduce un número: 16\n",
            "La raíz cuadrada de 16.0 es 4.0\n"
          ]
        }
      ],
      "source": [
        "print(\"¡Bienvenido a la calculadora de raices cuadradas!\")\n",
        "\n",
        "import math\n",
        "\n",
        "def calcular_raiz_cuadrada(numero):\n",
        "    raiz_cuadrada = math.sqrt(numero)\n",
        "    return raiz_cuadrada\n",
        "\n",
        "numero = float(input(\"Introduce un número: \"))\n",
        "\n",
        "resultado = calcular_raiz_cuadrada(numero)\n",
        "\n",
        "print(f\"La raíz cuadrada de {numero} es {resultado}\")\n",
        "\n"
      ]
    },
    {
      "cell_type": "code",
      "execution_count": null,
      "metadata": {
        "id": "358KbXA0h1yJ"
      },
      "outputs": [],
      "source": []
    }
  ],
  "metadata": {
    "colab": {
      "provenance": [],
      "include_colab_link": true
    },
    "kernelspec": {
      "display_name": "Python 3",
      "name": "python3"
    },
    "language_info": {
      "name": "python"
    }
  },
  "nbformat": 4,
  "nbformat_minor": 0
}